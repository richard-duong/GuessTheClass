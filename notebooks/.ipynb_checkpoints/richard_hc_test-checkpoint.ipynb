{
 "cells": [
  {
   "cell_type": "code",
   "execution_count": 1,
   "metadata": {},
   "outputs": [],
   "source": [
    "def total_time(start_time):\n",
    "    print(\"This took %s seconds\" % (time.time() - start_time))"
   ]
  },
  {
   "cell_type": "code",
   "execution_count": 2,
   "metadata": {},
   "outputs": [
    {
     "name": "stdout",
     "output_type": "stream",
     "text": [
      "This took 0.2799999713897705 seconds\n"
     ]
    },
    {
     "name": "stderr",
     "output_type": "stream",
     "text": [
      "[nltk_data] Downloading package stopwords to\n",
      "[nltk_data]     C:\\Users\\User\\AppData\\Roaming\\nltk_data...\n",
      "[nltk_data]   Package stopwords is already up-to-date!\n"
     ]
    }
   ],
   "source": [
    "from sklearn.feature_extraction.text import TfidfVectorizer,CountVectorizer,TfidfTransformer\n",
    "from sklearn.datasets import fetch_20newsgroups\n",
    "from pprint import pprint\n",
    "import time\n",
    "import nltk\n",
    "\n",
    "start_time = time.time()\n",
    "\n",
    "nltk.download('stopwords')\n",
    "\n",
    "total_time(start_time)\n"
   ]
  },
  {
   "cell_type": "code",
   "execution_count": 3,
   "metadata": {},
   "outputs": [
    {
     "name": "stdout",
     "output_type": "stream",
     "text": [
      "This took 0.3899984359741211 seconds\n"
     ]
    }
   ],
   "source": [
    "start_time = time.time()\n",
    "\n",
    "topics=['comp.graphics','sci.electronics']\n",
    "newsgroups_train = fetch_20newsgroups(subset='train', categories=topics)\n",
    "\n",
    "total_time(start_time)"
   ]
  },
  {
   "cell_type": "code",
   "execution_count": 4,
   "metadata": {},
   "outputs": [
    {
     "name": "stdout",
     "output_type": "stream",
     "text": [
      "1175\n",
      "This took 0.0009996891021728516 seconds\n"
     ]
    }
   ],
   "source": [
    "start_time = time.time()\n",
    "\n",
    "print(len(newsgroups_train.data))\n",
    "\n",
    "total_time(start_time)"
   ]
  },
  {
   "cell_type": "code",
   "execution_count": 5,
   "metadata": {},
   "outputs": [
    {
     "name": "stdout",
     "output_type": "stream",
     "text": [
      "This took 1.0199973583221436 seconds\n"
     ]
    }
   ],
   "source": [
    "start_time = time.time()\n",
    "\n",
    "vectorizer = TfidfVectorizer(stop_words='english')\n",
    "matrix = vectorizer.fit_transform(newsgroups_train.data)\n",
    "matrix_array = matrix.toarray()\n",
    "\n",
    "total_time(start_time)"
   ]
  },
  {
   "cell_type": "code",
   "execution_count": 7,
   "metadata": {},
   "outputs": [
    {
     "name": "stdout",
     "output_type": "stream",
     "text": [
      "This took 0.10999870300292969 seconds\n"
     ]
    }
   ],
   "source": [
    "from sklearn.metrics.pairwise import cosine_similarity\n",
    "\n",
    "start_time = time.time()\n",
    "\n",
    "dist = 1 - cosine_similarity(matrix)\n",
    "\n",
    "total_time(start_time)"
   ]
  },
  {
   "cell_type": "code",
   "execution_count": 8,
   "metadata": {},
   "outputs": [
    {
     "data": {
      "text/plain": [
       "array([[ 0.00000000e+00,  9.92883250e-01,  9.91161663e-01, ...,\n",
       "         9.93827570e-01,  9.96101692e-01,  9.93728967e-01],\n",
       "       [ 9.92883250e-01, -2.22044605e-16,  9.69387668e-01, ...,\n",
       "         9.97313327e-01,  9.73005888e-01,  9.17467820e-01],\n",
       "       [ 9.91161663e-01,  9.69387668e-01, -2.22044605e-16, ...,\n",
       "         9.91761861e-01,  9.90257907e-01,  9.94932611e-01],\n",
       "       ...,\n",
       "       [ 9.93827570e-01,  9.97313327e-01,  9.91761861e-01, ...,\n",
       "        -2.22044605e-16,  9.87428748e-01,  9.98347261e-01],\n",
       "       [ 9.96101692e-01,  9.73005888e-01,  9.90257907e-01, ...,\n",
       "         9.87428748e-01, -2.22044605e-16,  9.74189759e-01],\n",
       "       [ 9.93728967e-01,  9.17467820e-01,  9.94932611e-01, ...,\n",
       "         9.98347261e-01,  9.74189759e-01, -2.22044605e-16]])"
      ]
     },
     "execution_count": 8,
     "metadata": {},
     "output_type": "execute_result"
    }
   ],
   "source": [
    "dist"
   ]
  },
  {
   "cell_type": "code",
   "execution_count": 9,
   "metadata": {},
   "outputs": [
    {
     "name": "stdout",
     "output_type": "stream",
     "text": [
      "This took 150.22596549987793 seconds\n"
     ]
    }
   ],
   "source": [
    "# scales multiple dimensions onto a 2d plane (simplifies and randomizes distance vectors)\n",
    "from sklearn.manifold import MDS\n",
    "\n",
    "start_time = time.time()\n",
    "\n",
    "mds = MDS(n_components=5, dissimilarity=\"precomputed\", random_state=1)\n",
    "pos = mds.fit_transform(dist)  # shape (n_components, n_samples)\n",
    "xs, ys = pos[:, 0], pos[:, 1]\n",
    "\n",
    "total_time(start_time)"
   ]
  },
  {
   "cell_type": "code",
   "execution_count": 15,
   "metadata": {},
   "outputs": [
    {
     "name": "stdout",
     "output_type": "stream",
     "text": [
      "This took 20.626999378204346 seconds\n"
     ]
    }
   ],
   "source": [
    "# TRAINING TAKING TOO LONG\n",
    "\n",
    "# https://scikit-learn.org/stable/modules/generated/sklearn.cluster.AgglomerativeClustering.html\n",
    "\n",
    "start_time = time.time()\n",
    "\n",
    "from sklearn.cluster import AgglomerativeClustering\n",
    "cluster = AgglomerativeClustering(n_clusters=2, affinity='cosine', linkage='single')\n",
    "cluster.fit_predict(matrix_array)\n",
    "\n",
    "total_time(start_time)"
   ]
  },
  {
   "cell_type": "code",
   "execution_count": 16,
   "metadata": {},
   "outputs": [
    {
     "name": "stdout",
     "output_type": "stream",
     "text": [
      "hi\n"
     ]
    }
   ],
   "source": [
    "print(\"hi\")"
   ]
  },
  {
   "cell_type": "code",
   "execution_count": 17,
   "metadata": {},
   "outputs": [
    {
     "name": "stdout",
     "output_type": "stream",
     "text": [
      "This took 0.03899836540222168 seconds\n"
     ]
    },
    {
     "data": {
      "image/png": "[encoded data removed]",
      "text/plain": [
       "<Figure size 432x288 with 1 Axes>"
      ]
     },
     "metadata": {
      "needs_background": "light"
     },
     "output_type": "display_data"
    }
   ],
   "source": [
    "import matplotlib.pyplot as plt\n",
    "\n",
    "start_time = time.time()\n",
    "\n",
    "%matplotlib inline\n",
    "plt.scatter(matrix_array[:,0], matrix_array[:,1], c=cluster.labels_, cmap='rainbow')\n",
    "\n",
    "total_time(start_time)"
   ]
  },
  {
   "cell_type": "code",
   "execution_count": null,
   "metadata": {},
   "outputs": [],
   "source": []
  },
  {
   "cell_type": "code",
   "execution_count": null,
   "metadata": {},
   "outputs": [],
   "source": []
  }
 ],
 "metadata": {
  "kernelspec": {
   "display_name": "Python 3",
   "language": "python",
   "name": "python3"
  },
  "language_info": {
   "codemirror_mode": {
    "name": "ipython",
    "version": 3
   },
   "file_extension": ".py",
   "mimetype": "text/x-python",
   "name": "python",
   "nbconvert_exporter": "python",
   "pygments_lexer": "ipython3",
   "version": "3.8.5"
  }
 },
 "nbformat": 4,
 "nbformat_minor": 4
}
