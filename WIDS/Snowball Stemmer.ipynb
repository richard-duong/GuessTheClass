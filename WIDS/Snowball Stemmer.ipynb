{
 "cells": [
  {
   "cell_type": "code",
   "execution_count": 3,
   "id": "subjective-cancer",
   "metadata": {},
   "outputs": [],
   "source": [
    "from nltk.stem.snowball import SnowballStemmer\n",
    "\n",
    "english_stemmer = SnowballStemmer(\"english\")"
   ]
  },
  {
   "cell_type": "code",
   "execution_count": 27,
   "id": "corrected-default",
   "metadata": {},
   "outputs": [],
   "source": [
    "def stemmify(tokens, stemmer):\n",
    "    result = []\n",
    "    for token in tokens:\n",
    "        result.append(stemmer.stem(token))\n",
    "    return result\n",
    "\n",
    "def stem(token, stemmer):\n",
    "    return stemmer.stem(token)\n",
    "\n",
    "def stemPrint(tokens, stemmer):\n",
    "    tokens = sorted(tokens)\n",
    "    for i in range(len(tokens) - 1):\n",
    "        print(f\"{tokens[i]:10} => {stem(tokens[i], stemmer):10}\\t\\t{tokens[i + 1]:10} => {stem(tokens[i + 1], stemmer):10}\")\n",
    "        i += 3"
   ]
  },
  {
   "cell_type": "code",
   "execution_count": 28,
   "id": "legitimate-printer",
   "metadata": {},
   "outputs": [
    {
     "name": "stdout",
     "output_type": "stream",
     "text": [
      "also       => also      \t\taround     => around    \n",
      "around     => around    \t\tcall       => call      \n",
      "call       => call      \t\thappiest   => happiest  \n",
      "happiest   => happiest  \t\thappily    => happili   \n",
      "happily    => happili   \t\thappy      => happi     \n",
      "happy      => happi     \t\tjump       => jump      \n",
      "jump       => jump      \t\tjumper     => jumper    \n",
      "jumper     => jumper    \t\tjumping    => jump      \n",
      "jumping    => jump      \t\tjumpy      => jumpi     \n",
      "jumpy      => jumpi     \t\tlife       => life      \n",
      "life       => life      \t\tlike       => like      \n",
      "like       => like      \t\tlike       => like      \n",
      "like       => like      \t\tlikely     => like      \n",
      "likely     => like      \t\tpeople     => peopl     \n",
      "people     => peopl     \t\tperson     => person    \n",
      "person     => person    \t\tplace      => place     \n",
      "place      => place     \t\tsay        => say       \n"
     ]
    }
   ],
   "source": [
    "with open(\"captions/sample2.txt\") as sampleFile:\n",
    "    tokens = sampleFile.read().split()\n",
    "    \n",
    "stemPrint(tokens, english_stemmer)"
   ]
  },
  {
   "cell_type": "code",
   "execution_count": null,
   "id": "impossible-divide",
   "metadata": {},
   "outputs": [],
   "source": []
  }
 ],
 "metadata": {
  "kernelspec": {
   "display_name": "Python 3",
   "language": "python",
   "name": "python3"
  },
  "language_info": {
   "codemirror_mode": {
    "name": "ipython",
    "version": 3
   },
   "file_extension": ".py",
   "mimetype": "text/x-python",
   "name": "python",
   "nbconvert_exporter": "python",
   "pygments_lexer": "ipython3",
   "version": "3.8.5"
  }
 },
 "nbformat": 4,
 "nbformat_minor": 5
}
