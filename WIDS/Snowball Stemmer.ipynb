{
 "cells": [
  {
   "cell_type": "code",
   "execution_count": 74,
   "id": "executed-procurement",
   "metadata": {},
   "outputs": [
    {
     "data": {
      "text/html": [
       "\n",
       "$('<style>.code_cell { margin-bottom: 100px !important;}</style>').appendTo('head');\n"
      ]
     },
     "metadata": {},
     "output_type": "display_data"
    }
   ],
   "source": [
    "import IPython.core.display as di\n",
    "\n",
    "di.display_html(\"\"\"\n",
    "$('<style>.code_cell { margin-bottom: 100px !important;}</style>').appendTo('head');\n",
    "\"\"\", raw=True)"
   ]
  },
  {
   "cell_type": "markdown",
   "id": "statewide-participant",
   "metadata": {},
   "source": [
    "### Create stemmer and stem functions"
   ]
  },
  {
   "cell_type": "code",
   "execution_count": 75,
   "id": "present-driving",
   "metadata": {},
   "outputs": [],
   "source": [
    "from nltk.stem.snowball import SnowballStemmer\n",
    "english_stemmer = SnowballStemmer(\"english\")\n",
    "\n",
    "def stem(token, stemmer):\n",
    "    return stemmer.stem(token)\n",
    "\n",
    "def stemPrint(tokens, stemmer):\n",
    "    tokens = sorted(tokens)\n",
    "    for i in range(0, len(tokens), 2):\n",
    "        print(f\"{tokens[i]:10} => {stem(tokens[i], stemmer):10}\\t\\t{tokens[i + 1]:10} => {stem(tokens[i + 1], stemmer):10}\")"
   ]
  },
  {
   "cell_type": "markdown",
   "id": "olive-kingston",
   "metadata": {},
   "source": [
    "### "
   ]
  },
  {
   "cell_type": "code",
   "execution_count": 73,
   "id": "narrow-section",
   "metadata": {},
   "outputs": [
    {
     "name": "stdout",
     "output_type": "stream",
     "text": [
      "also       => also      \t\taround     => around    \n",
      "call       => call      \t\thappiest   => happiest  \n",
      "happily    => happili   \t\thappy      => happi     \n",
      "jump       => jump      \t\tjumper     => jumper    \n",
      "jumping    => jump      \t\tjumpings   => jump      \n",
      "jumps      => jump      \t\tjumpy      => jumpi     \n",
      "life       => life      \t\tlike       => like      \n",
      "like       => like      \t\tlikely     => like      \n",
      "people     => peopl     \t\tperson     => person    \n",
      "place      => place     \t\tsay        => say       \n"
     ]
    }
   ],
   "source": [
    "with open(\"captions/sample2.txt\") as sampleFile:\n",
    "    tokens = sampleFile.read().split()\n",
    "    \n",
    "stemPrint(tokens, english_stemmer)"
   ]
  },
  {
   "cell_type": "code",
   "execution_count": null,
   "id": "bored-honduras",
   "metadata": {},
   "outputs": [],
   "source": []
  }
 ],
 "metadata": {
  "kernelspec": {
   "display_name": "Python 3",
   "language": "python",
   "name": "python3"
  },
  "language_info": {
   "codemirror_mode": {
    "name": "ipython",
    "version": 3
   },
   "file_extension": ".py",
   "mimetype": "text/x-python",
   "name": "python",
   "nbconvert_exporter": "python",
   "pygments_lexer": "ipython3",
   "version": "3.8.5"
  }
 },
 "nbformat": 4,
 "nbformat_minor": 5
}
