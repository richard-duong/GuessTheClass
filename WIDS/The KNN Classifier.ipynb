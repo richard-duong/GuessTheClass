{
 "cells": [
  {
   "cell_type": "code",
   "execution_count": null,
   "id": "nearby-superior",
   "metadata": {},
   "outputs": [],
   "source": [
    "import IPython.core.display as di\n",
    "\n",
    "di.display_html(\"\"\"\n",
    "$('<style>.code_cell { margin-bottom: 80px !important;}</style>').appendTo('head');\n",
    "\"\"\", raw=True)"
   ]
  },
  {
   "cell_type": "code",
   "execution_count": null,
   "id": "sensitive-image",
   "metadata": {},
   "outputs": [],
   "source": [
    "from sklearn.feature_extraction.text import TfidfVectorizer,CountVectorizer\n",
    "from sklearn.neighbors import KNeighborsClassifier\n",
    "from nltk.stem.snowball import SnowballStemmer\n",
    "english_stemmer = SnowballStemmer(\"english\")\n",
    "class StemmedTfidfVectorizer(TfidfVectorizer):\n",
    "    def build_analyzer(self):\n",
    "        analyzer = super().build_analyzer()\n",
    "        return lambda doc: ([english_stemmer.stem(w) for w in analyzer(doc)])\n"
   ]
  },
  {
   "cell_type": "markdown",
   "id": "considered-evolution",
   "metadata": {},
   "source": [
    "### Generate KNN Classifier"
   ]
  },
  {
   "cell_type": "code",
   "execution_count": null,
   "id": "floppy-story",
   "metadata": {},
   "outputs": [],
   "source": [
    "from sklearn.neighbors import KNeighborsClassifier\n",
    "\n",
    "# generates and fits classifier to training dataset\n",
    "classifier = KNeighborsClassifier(n_neighbors=12)"
   ]
  },
  {
   "cell_type": "markdown",
   "id": "motivated-benchmark",
   "metadata": {},
   "source": [
    "### Load data from TF-IDF Vectorizer using pickle"
   ]
  },
  {
   "cell_type": "code",
   "execution_count": null,
   "id": "meaningful-second",
   "metadata": {},
   "outputs": [],
   "source": [
    "import pickle\n",
    "\n",
    "# fit vectorizer\n",
    "with open(\"model/idf_fit_vectorizer.pkl\", \"rb\") as idf_fit_file:\n",
    "    fit_vectorizer = pickle.load(idf_fit_file)\n",
    "\n",
    "# training data\n",
    "with open(\"model/train_transform.pkl\", \"rb\") as train_transform_file:\n",
    "    train_transform = pickle.load(train_transform_file)\n",
    "    \n",
    "with open(\"model/train_labels.pkl\", \"rb\") as train_labels_file:\n",
    "    train_labels = pickle.load(train_labels_file)\n",
    "\n",
    "    \n",
    "# testing data\n",
    "with open(\"model/test_transform.pkl\", \"rb\") as test_transform_file:\n",
    "    test_transform = pickle.load(test_transform_file)\n",
    "\n",
    "with open(\"model/test_labels.pkl\", \"rb\") as test_labels_file:\n",
    "    test_labels = pickle.load(test_labels_file)"
   ]
  },
  {
   "cell_type": "markdown",
   "id": "ahead-deficit",
   "metadata": {},
   "source": [
    "### Generates the classifier model based on labels"
   ]
  },
  {
   "cell_type": "code",
   "execution_count": null,
   "id": "competitive-miller",
   "metadata": {},
   "outputs": [],
   "source": [
    "classifier.fit(train_transform, train_labels)"
   ]
  },
  {
   "cell_type": "markdown",
   "id": "given-locator",
   "metadata": {},
   "source": [
    "### Verify accuracy"
   ]
  },
  {
   "cell_type": "code",
   "execution_count": null,
   "id": "vocal-andorra",
   "metadata": {},
   "outputs": [],
   "source": [
    "def calculate_score(prediction, test_labels):\n",
    "    return sum([1 if subject1 == subject2 else 0 for subject1, subject2 in zip(prediction, test_labels)]) / len(prediction)\n",
    "\n",
    "def pretty_list(data):\n",
    "    for i in range(0, len(data), 5):\n",
    "        print(f\"{data[i]:10} {data[i+1]:10} {data[i+2]:10} {data[i+3]:10} {data[i+4]:10}\")"
   ]
  },
  {
   "cell_type": "code",
   "execution_count": null,
   "id": "spanish-writer",
   "metadata": {
    "scrolled": true
   },
   "outputs": [],
   "source": [
    "prediction = classifier.predict(test_transform)\n",
    "pretty_list(prediction)"
   ]
  },
  {
   "cell_type": "code",
   "execution_count": null,
   "id": "plastic-intensity",
   "metadata": {
    "scrolled": true
   },
   "outputs": [],
   "source": [
    "pretty_list(test_labels)"
   ]
  },
  {
   "cell_type": "code",
   "execution_count": null,
   "id": "royal-kidney",
   "metadata": {},
   "outputs": [],
   "source": [
    "print(f\"The accuracy of our model is {100 * calculate_score(prediction, test_labels)}%\")"
   ]
  },
  {
   "cell_type": "markdown",
   "id": "ruled-belgium",
   "metadata": {},
   "source": [
    "### Test your own predictions!"
   ]
  },
  {
   "cell_type": "code",
   "execution_count": null,
   "id": "higher-philip",
   "metadata": {},
   "outputs": [],
   "source": [
    "def classify_text(text, classifier):\n",
    "    return classifier.predict(fit_vectorizer.transform([text]))[0]\n",
    "\n"
   ]
  },
  {
   "cell_type": "code",
   "execution_count": null,
   "id": "corporate-pension",
   "metadata": {},
   "outputs": [],
   "source": [
    "print(classify_text(\"Mammals are amazing creatures!\", classifier))\n",
    "print(classify_text(\"Nike has a very interesting marketing technique\", classifier))\n",
    "print(classify_text(\"Graphs \"))"
   ]
  },
  {
   "cell_type": "code",
   "execution_count": null,
   "id": "embedded-shadow",
   "metadata": {},
   "outputs": [],
   "source": []
  }
 ],
 "metadata": {
  "kernelspec": {
   "display_name": "Python 3",
   "language": "python",
   "name": "python3"
  },
  "language_info": {
   "codemirror_mode": {
    "name": "ipython",
    "version": 3
   },
   "file_extension": ".py",
   "mimetype": "text/x-python",
   "name": "python",
   "nbconvert_exporter": "python",
   "pygments_lexer": "ipython3",
   "version": "3.8.5"
  }
 },
 "nbformat": 4,
 "nbformat_minor": 5
}
