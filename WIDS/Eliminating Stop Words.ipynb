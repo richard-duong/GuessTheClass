{
 "cells": [
  {
   "cell_type": "markdown",
   "id": "expressed-bedroom",
   "metadata": {},
   "source": [
    "### Notebook Formatting"
   ]
  },
  {
   "cell_type": "code",
   "execution_count": 10,
   "id": "sacred-antarctica",
   "metadata": {},
   "outputs": [
    {
     "data": {
      "text/html": [
       "\n",
       "$('<style>.code_cell { margin-bottom: 100px !important;}</style>').appendTo('head');\n"
      ]
     },
     "metadata": {},
     "output_type": "display_data"
    }
   ],
   "source": [
    "import IPython.core.display as di\n",
    "\n",
    "di.display_html(\"\"\"\n",
    "$('<style>.code_cell { margin-bottom: 100px !important;}</style>').appendTo('head');\n",
    "\"\"\", raw=True)"
   ]
  },
  {
   "cell_type": "code",
   "execution_count": 29,
   "id": "constitutional-relation",
   "metadata": {},
   "outputs": [
    {
     "name": "stderr",
     "output_type": "stream",
     "text": [
      "[nltk_data] Downloading package stopwords to\n",
      "[nltk_data]     /home/richard/nltk_data...\n",
      "[nltk_data]   Package stopwords is already up-to-date!\n"
     ]
    }
   ],
   "source": [
    "import nltk\n",
    "from nltk.corpus import stopwords\n",
    "nltk.download(\"stopwords\")\n",
    "stop_words = stopwords.words(\"english\")"
   ]
  },
  {
   "cell_type": "markdown",
   "id": "vietnamese-basin",
   "metadata": {},
   "source": [
    "### List stopwords"
   ]
  },
  {
   "cell_type": "code",
   "execution_count": 30,
   "id": "rental-proxy",
   "metadata": {},
   "outputs": [
    {
     "name": "stdout",
     "output_type": "stream",
     "text": [
      "['i', 'me', 'my', 'myself', 'we', 'our', 'ours', 'ourselves', 'you', \"you're\", \"you've\", \"you'll\", \"you'd\", 'your', 'yours', 'yourself', 'yourselves', 'he', 'him', 'his', 'himself', 'she', \"she's\", 'her', 'hers', 'herself', 'it', \"it's\", 'its', 'itself', 'they', 'them', 'their', 'theirs', 'themselves', 'what', 'which', 'who', 'whom', 'this', 'that', \"that'll\", 'these', 'those', 'am', 'is', 'are', 'was', 'were', 'be', 'been', 'being', 'have', 'has', 'had', 'having', 'do', 'does', 'did', 'doing', 'a', 'an', 'the', 'and', 'but', 'if', 'or', 'because', 'as', 'until', 'while', 'of', 'at', 'by', 'for', 'with', 'about', 'against', 'between', 'into', 'through', 'during', 'before', 'after', 'above', 'below', 'to', 'from', 'up', 'down', 'in', 'out', 'on', 'off', 'over', 'under', 'again', 'further', 'then', 'once', 'here', 'there', 'when', 'where', 'why', 'how', 'all', 'any', 'both', 'each', 'few', 'more', 'most', 'other', 'some', 'such', 'no', 'nor', 'not', 'only', 'own', 'same', 'so', 'than', 'too', 'very', 's', 't', 'can', 'will', 'just', 'don', \"don't\", 'should', \"should've\", 'now', 'd', 'll', 'm', 'o', 're', 've', 'y', 'ain', 'aren', \"aren't\", 'couldn', \"couldn't\", 'didn', \"didn't\", 'doesn', \"doesn't\", 'hadn', \"hadn't\", 'hasn', \"hasn't\", 'haven', \"haven't\", 'isn', \"isn't\", 'ma', 'mightn', \"mightn't\", 'mustn', \"mustn't\", 'needn', \"needn't\", 'shan', \"shan't\", 'shouldn', \"shouldn't\", 'wasn', \"wasn't\", 'weren', \"weren't\", 'won', \"won't\", 'wouldn', \"wouldn't\"]\n"
     ]
    }
   ],
   "source": [
    "print(stop_words)"
   ]
  },
  {
   "cell_type": "markdown",
   "id": "functional-airfare",
   "metadata": {},
   "source": [
    "### Show original document"
   ]
  },
  {
   "cell_type": "code",
   "execution_count": 31,
   "id": "blond-russell",
   "metadata": {},
   "outputs": [
    {
     "name": "stdout",
     "output_type": "stream",
     "text": [
      "i am very happy\n",
      "my life is very happily at its happiest\n",
      "i also like to jump and jumps and jumpings around\n",
      "people like to call me a jumper because i am likely to be jumping all over the place\n",
      "what can i say i am a jumpy person\n"
     ]
    }
   ],
   "source": [
    "with open(\"captions/sample1.txt\") as sampleFile:\n",
    "    text = sampleFile.read()\n",
    "no_stop_text = text\n",
    "print(text)"
   ]
  },
  {
   "cell_type": "markdown",
   "id": "patent-switzerland",
   "metadata": {},
   "source": [
    "### Remove all stopwords"
   ]
  },
  {
   "cell_type": "code",
   "execution_count": 33,
   "id": "gentle-lighter",
   "metadata": {},
   "outputs": [
    {
     "name": "stdout",
     "output_type": "stream",
     "text": [
      "   happy\n",
      " life   happily   happiest\n",
      " also like  jump  jumps  jumpings around\n",
      "people like  call   jumper    likely   jumping    place\n",
      "   say    jumpy person\n"
     ]
    }
   ],
   "source": [
    "import re\n",
    "\n",
    "for word in stop_words:\n",
    "    no_stop_text = re.sub(fr\"\\b{word}\\b\", \"\", no_stop_text)\n",
    "print(no_stop_text)"
   ]
  },
  {
   "cell_type": "markdown",
   "id": "large-block",
   "metadata": {},
   "source": [
    "### Save for next step"
   ]
  },
  {
   "cell_type": "code",
   "execution_count": 34,
   "id": "crude-found",
   "metadata": {},
   "outputs": [],
   "source": [
    "with open(\"captions/sample2.txt\", \"w\") as writeFile:\n",
    "    writeFile.write(no_stop_text)"
   ]
  }
 ],
 "metadata": {
  "kernelspec": {
   "display_name": "Python 3",
   "language": "python",
   "name": "python3"
  },
  "language_info": {
   "codemirror_mode": {
    "name": "ipython",
    "version": 3
   },
   "file_extension": ".py",
   "mimetype": "text/x-python",
   "name": "python",
   "nbconvert_exporter": "python",
   "pygments_lexer": "ipython3",
   "version": "3.8.5"
  }
 },
 "nbformat": 4,
 "nbformat_minor": 5
}
