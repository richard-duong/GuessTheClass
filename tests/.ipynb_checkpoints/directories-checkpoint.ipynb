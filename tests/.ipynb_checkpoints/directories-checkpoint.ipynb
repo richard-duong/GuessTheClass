{
 "cells": [
  {
   "cell_type": "code",
   "execution_count": 3,
   "metadata": {},
   "outputs": [],
   "source": [
    "import os\n",
    "import glob"
   ]
  },
  {
   "cell_type": "code",
   "execution_count": 56,
   "metadata": {},
   "outputs": [],
   "source": [
    "import ntpath\n",
    "import os\n",
    "\n",
    "def path_leaf(path):\n",
    "    head, tail = ntpath.split(path)\n",
    "    return tail or ntpath.basename(head)\n",
    "\n",
    "def build_matching_subdir(src_path, dest_path):\n",
    "    src_dirs = []\n",
    "    dest_dirs = []\n",
    "    \n",
    "    # store all directories inside src\n",
    "    for dir_path in glob.glob(src_path + \"*/\"):\n",
    "        dir = path_leaf(dir_path)\n",
    "        src_dirs.append(dir)\n",
    "        \n",
    "    # store all directores inside dest\n",
    "    for dir_path in glob.glob(dest_path + \"*/\"):\n",
    "        dir = path_leaf(dir_path)\n",
    "        dest_dirs.append(dir)\n",
    "    \n",
    "    # build directory if not already existing in clean path\n",
    "    for dir_path in src_dirs:\n",
    "        dir = path_leaf(dir_path)\n",
    "        if dir not in dest_dirs:\n",
    "            os.mkdir(dest_path + dir)\n",
    "            \n",
    "def get_dir_paths(src_path):\n",
    "    dir_paths = []\n",
    "    for dir_path in glob.glob(src_path + \"*/\"):\n",
    "        dir_paths.append(dir_path)\n",
    "    return dir_paths\n",
    "\n",
    "def get_dir_names(src_path):\n",
    "    dir_names = []\n",
    "    for dir_path in glob.glob(src_path + \"*/\"):\n",
    "        dir_name = path_leaf(dir_path)\n",
    "        dir_names.append()\n",
    "\n",
    "\n",
    "def get_file_paths(src_path):\n",
    "    file_paths = []\n",
    "    for file_path in glob.glob(src_path + \"*\"):\n",
    "        file_paths.append(dir_path)\n",
    "    return file_paths"
   ]
  },
  {
   "cell_type": "code",
   "execution_count": 54,
   "metadata": {},
   "outputs": [],
   "source": [
    "RAW_PATH = \"../data/raw/\"\n",
    "CLEAN_PATH = \"../data/clean/\"\n",
    "\n",
    "build_matching_subdir(RAW_PATH, CLEAN_PATH)\n",
    "get_file_paths(RAW_PATH + \"\")"
   ]
  },
  {
   "cell_type": "markdown",
   "metadata": {},
   "source": [
    "# Experiment"
   ]
  },
  {
   "cell_type": "code",
   "execution_count": 40,
   "metadata": {},
   "outputs": [
    {
     "name": "stdout",
     "output_type": "stream",
     "text": [
      "../data/raw\\BIOL\\\n",
      "BIOL\n",
      "../data/raw\\CS\\\n",
      "CS\n",
      "../data/raw\\ENGR\\\n",
      "ENGR\n",
      "../data/raw\\STAT\\\n",
      "STAT\n",
      "BIOL\n",
      "CS\n",
      "ENGR\n",
      "STAT\n"
     ]
    }
   ],
   "source": [
    "raw_dirs = []\n",
    "clean_dirs = []\n",
    "\n",
    "# every subject in raw directory\n",
    "for dir in glob.glob(\"../data/raw/*/\"):\n",
    "    print(dir)\n",
    "    print(path_leaf(dir))\n",
    "    raw_dirs.append(path_leaf(dir))\n",
    "\n",
    "for dir in glob.glob(\"../data/clean/*/\"):\n",
    "    print(dir)\n",
    "    print(path_leaf(dir))\n",
    "    clean_dirs.append(path_leaf(dir))\n",
    "    \n",
    "for dir in raw_dirs:\n",
    "    if dir not in clean_dirs:\n",
    "        print(dir)"
   ]
  },
  {
   "cell_type": "code",
   "execution_count": 41,
   "metadata": {},
   "outputs": [],
   "source": [
    "# every file in raw directories\n",
    "for dir in raw_dirs:\n",
    "    for text in glob.glob(dir + \"*\"):\n",
    "        print(text)\n",
    "        print(path_leaf(text))\n",
    "        print()"
   ]
  },
  {
   "cell_type": "code",
   "execution_count": null,
   "metadata": {},
   "outputs": [],
   "source": []
  },
  {
   "cell_type": "code",
   "execution_count": null,
   "metadata": {},
   "outputs": [],
   "source": []
  },
  {
   "cell_type": "code",
   "execution_count": null,
   "metadata": {},
   "outputs": [],
   "source": []
  },
  {
   "cell_type": "code",
   "execution_count": null,
   "metadata": {},
   "outputs": [],
   "source": []
  }
 ],
 "metadata": {
  "kernelspec": {
   "display_name": "Python 3",
   "language": "python",
   "name": "python3"
  },
  "language_info": {
   "codemirror_mode": {
    "name": "ipython",
    "version": 3
   },
   "file_extension": ".py",
   "mimetype": "text/x-python",
   "name": "python",
   "nbconvert_exporter": "python",
   "pygments_lexer": "ipython3",
   "version": "3.8.5"
  }
 },
 "nbformat": 4,
 "nbformat_minor": 4
}
